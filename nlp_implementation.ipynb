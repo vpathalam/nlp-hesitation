{
 "cells": [
  {
   "cell_type": "code",
   "execution_count": 34,
   "metadata": {},
   "outputs": [],
   "source": [
    "import numpy as np\n",
    "import pandas as pd\n",
    "import matplotlib\n",
    "\n",
    "import speech_recognition as sr\n",
    "import soundfile\n",
    "import librosa\n",
    "import glob\n",
    "import os\n",
    "from pydub import AudioSegment\n",
    "from pydub.silence import split_on_silence\n",
    "import pickle\n",
    "import re\n",
    "from pathlib import Path\n",
    "\n",
    "from sklearn.model_selection import train_test_split\n",
    "from sklearn.neural_network import MLPClassifier\n",
    "from sklearn.metrics import accuracy_score, f1_score"
   ]
  },
  {
   "cell_type": "code",
   "execution_count": 29,
   "metadata": {},
   "outputs": [],
   "source": [
    "file = Path.cwd() / 'nlp-hesitation/fillers.txt'\n",
    "with open(file, 'r') as text:\n",
    "    data = text.read()\n",
    "    data = re.sub(r\"(\\/\\*.*?\\*\\/)\", \"\", data, flags=re.M|re.DOTALL)\n",
    "#print(data.strip())\n",
    "fillers = data.split(\"\\n\")"
   ]
  },
  {
   "cell_type": "code",
   "execution_count": 43,
   "metadata": {},
   "outputs": [],
   "source": [
    "audio = Path.cwd() / 'nlp-hesitation/ted-audiofile.wav'\n",
    "r = sr.Recognizer()\n",
    "#chunks the current audio file, sr to translate audio chunk to text\n",
    "def transcribe(path):\n",
    "    sound = AudioSegment.from_wav(path)  \n",
    "    chunk_list = split_on_silence(sound, min_silence_len = 500, silence_thresh = sound.dBFS-14, keep_silence=500,)\n",
    "    folder_name = \"audio-chunks\"\n",
    "    if not os.path.isdir(folder_name):\n",
    "        os.mkdir(folder_name)\n",
    "    whole_text = \"\"\n",
    "    for i, audio_chunk in enumerate(chunk_list, start=1):\n",
    "        chunk_filename = os.path.join(folder_name, f\"chunk{i}.wav\")\n",
    "        audio_chunk.export(chunk_filename, format=\"wav\")\n",
    "        with sr.AudioFile(chunk_filename) as source:\n",
    "            audio_listened = r.record(source)\n",
    "            try:\n",
    "                text = r.recognize_google(audio_listened)\n",
    "            except sr.UnknownValueError as e:\n",
    "                pass\n",
    "            else:\n",
    "                text = f\"{text.capitalize()}. \"\n",
    "                #print(chunk_filename, \":\", text)\n",
    "                whole_text += text\n",
    "    return whole_text"
   ]
  },
  {
   "cell_type": "code",
   "execution_count": null,
   "metadata": {},
   "outputs": [],
   "source": [
    "print(\"\\nFull text:\", transcribe(str(audio)))"
   ]
  },
  {
   "cell_type": "code",
   "execution_count": null,
   "metadata": {},
   "outputs": [],
   "source": []
  }
 ],
 "metadata": {
  "kernelspec": {
   "display_name": "Python 3",
   "language": "python",
   "name": "python3"
  },
  "language_info": {
   "codemirror_mode": {
    "name": "ipython",
    "version": 3
   },
   "file_extension": ".py",
   "mimetype": "text/x-python",
   "name": "python",
   "nbconvert_exporter": "python",
   "pygments_lexer": "ipython3",
   "version": "3.7.4"
  }
 },
 "nbformat": 4,
 "nbformat_minor": 2
}
