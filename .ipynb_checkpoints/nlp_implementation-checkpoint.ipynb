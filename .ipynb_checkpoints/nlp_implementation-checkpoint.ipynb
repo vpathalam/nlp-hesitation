{
 "cells": [
  {
   "cell_type": "code",
   "execution_count": 1,
   "metadata": {},
   "outputs": [],
   "source": [
    "import numpy as np\n",
    "import pandas as pd\n",
    "import matplotlib\n",
    "import speech_recognition as sr\n",
    "import soundfile\n",
    "import librosa\n",
    "import glob\n",
    "import os\n",
    "import pickle\n",
    "from sklearn.model_selection import train_test_split\n",
    "from sklearn.neural_network import MLPClassifier\n",
    "from sklearn.metrics import accuracy_score, f1_score"
   ]
  },
  {
   "cell_type": "code",
   "execution_count": 3,
   "metadata": {},
   "outputs": [
    {
     "name": "stdout",
     "output_type": "stream",
     "text": [
      "Collecting SpeechRecognition\n",
      "\u001b[?25l  Downloading https://files.pythonhosted.org/packages/26/e1/7f5678cd94ec1234269d23756dbdaa4c8cfaed973412f88ae8adf7893a50/SpeechRecognition-3.8.1-py2.py3-none-any.whl (32.8MB)\n",
      "\u001b[K     |████████████████████████████████| 32.8MB 7.5MB/s eta 0:00:01\n",
      "\u001b[?25hCollecting pydub\n",
      "  Downloading https://files.pythonhosted.org/packages/7b/d1/fbfa79371a8cd9bb15c2e3c480d7e6e340ed5cc55005174e16f48418333a/pydub-0.24.1-py2.py3-none-any.whl\n",
      "Installing collected packages: SpeechRecognition, pydub\n",
      "Successfully installed SpeechRecognition-3.8.1 pydub-0.24.1\n",
      "Note: you may need to restart the kernel to use updated packages.\n"
     ]
    }
   ],
   "source": []
  },
  {
   "cell_type": "code",
   "execution_count": 4,
   "metadata": {},
   "outputs": [
    {
     "name": "stdout",
     "output_type": "stream",
     "text": [
      "Collecting librosa==0.6.3\n",
      "\u001b[?25l  Downloading https://files.pythonhosted.org/packages/e9/7e/7a0f66f79a70a0a4c163ecf30429f6c1644c88654f135a9eee0bda457626/librosa-0.6.3.tar.gz (1.6MB)\n",
      "\u001b[K     |████████████████████████████████| 1.6MB 3.4MB/s eta 0:00:01\n",
      "\u001b[?25hRequirement already satisfied: numpy in /Users/vpathalam/.local/lib/python3.7/site-packages (1.18.5)\n",
      "Collecting soundfile==0.9.0\n",
      "\u001b[?25l  Downloading https://files.pythonhosted.org/packages/13/0b/7db5cb934b12ad0f639d9120246a091f59ccf65f785545043b52b18208f8/SoundFile-0.9.0-py2.py3.cp26.cp27.cp32.cp33.cp34.cp35.cp36.pp27.pp32.pp33-none-macosx_10_5_x86_64.macosx_10_6_intel.macosx_10_9_intel.macosx_10_9_x86_64.whl (537kB)\n",
      "\u001b[K     |████████████████████████████████| 542kB 2.6MB/s eta 0:00:01\n",
      "\u001b[?25hCollecting sklearn\n",
      "  Downloading https://files.pythonhosted.org/packages/1e/7a/dbb3be0ce9bd5c8b7e3d87328e79063f8b263b2b1bfa4774cb1147bfcd3f/sklearn-0.0.tar.gz\n",
      "Collecting pyaudio==0.2.11\n",
      "  Downloading https://files.pythonhosted.org/packages/ab/42/b4f04721c5c5bfc196ce156b3c768998ef8c0ae3654ed29ea5020c749a6b/PyAudio-0.2.11.tar.gz\n",
      "Collecting audioread>=2.0.0 (from librosa==0.6.3)\n",
      "\u001b[?25l  Downloading https://files.pythonhosted.org/packages/b3/d1/e324634c5867a668774d6fe233a83228da4ba16521e19059c15df899737d/audioread-2.1.9.tar.gz (377kB)\n",
      "\u001b[K     |████████████████████████████████| 378kB 11.4MB/s eta 0:00:01\n",
      "\u001b[?25hRequirement already satisfied: scipy>=1.0.0 in /Users/vpathalam/opt/anaconda3/lib/python3.7/site-packages (from librosa==0.6.3) (1.3.1)\n",
      "Requirement already satisfied: scikit-learn!=0.19.0,>=0.14.0 in /Users/vpathalam/opt/anaconda3/lib/python3.7/site-packages (from librosa==0.6.3) (0.22.1)\n",
      "Requirement already satisfied: joblib>=0.12 in /Users/vpathalam/opt/anaconda3/lib/python3.7/site-packages (from librosa==0.6.3) (0.13.2)\n",
      "Requirement already satisfied: decorator>=3.0.0 in /Users/vpathalam/opt/anaconda3/lib/python3.7/site-packages (from librosa==0.6.3) (4.4.0)\n",
      "Requirement already satisfied: six>=1.3 in /Users/vpathalam/.local/lib/python3.7/site-packages (from librosa==0.6.3) (1.15.0)\n",
      "Collecting resampy>=0.2.0 (from librosa==0.6.3)\n",
      "\u001b[?25l  Downloading https://files.pythonhosted.org/packages/79/75/e22272b9c2185fc8f3af6ce37229708b45e8b855fd4bc38b4d6b040fff65/resampy-0.2.2.tar.gz (323kB)\n",
      "\u001b[K     |████████████████████████████████| 327kB 3.0MB/s eta 0:00:01\n",
      "\u001b[?25hRequirement already satisfied: numba>=0.38.0 in /Users/vpathalam/opt/anaconda3/lib/python3.7/site-packages (from librosa==0.6.3) (0.45.1)\n",
      "Requirement already satisfied: cffi>=0.6 in /Users/vpathalam/opt/anaconda3/lib/python3.7/site-packages (from soundfile==0.9.0) (1.12.3)\n",
      "Requirement already satisfied: llvmlite>=0.29.0dev0 in /Users/vpathalam/opt/anaconda3/lib/python3.7/site-packages (from numba>=0.38.0->librosa==0.6.3) (0.29.0)\n",
      "Requirement already satisfied: pycparser in /Users/vpathalam/opt/anaconda3/lib/python3.7/site-packages (from cffi>=0.6->soundfile==0.9.0) (2.19)\n",
      "Building wheels for collected packages: librosa, sklearn, pyaudio, audioread, resampy\n",
      "  Building wheel for librosa (setup.py) ... \u001b[?25ldone\n",
      "\u001b[?25h  Created wheel for librosa: filename=librosa-0.6.3-cp37-none-any.whl size=1573317 sha256=652c3b4bb24838579fb2e270cdbcd4b8768f5226092999732a25ab99f4db8974\n",
      "  Stored in directory: /Users/vpathalam/Library/Caches/pip/wheels/ce/49/68/87ba660f30e3977f0778e39ee2e944629cd37c2a0ce41f9ff1\n",
      "  Building wheel for sklearn (setup.py) ... \u001b[?25ldone\n",
      "\u001b[?25h  Created wheel for sklearn: filename=sklearn-0.0-py2.py3-none-any.whl size=1316 sha256=37abeb3e2f01fe492dcb7921dd4cac47b36bfb54e4458ea1285b2f6d3271b1dd\n",
      "  Stored in directory: /Users/vpathalam/Library/Caches/pip/wheels/76/03/bb/589d421d27431bcd2c6da284d5f2286c8e3b2ea3cf1594c074\n",
      "  Building wheel for pyaudio (setup.py) ... \u001b[?25lerror\n",
      "\u001b[31m  ERROR: Command errored out with exit status 1:\n",
      "   command: /Users/vpathalam/opt/anaconda3/bin/python -u -c 'import sys, setuptools, tokenize; sys.argv[0] = '\"'\"'/private/var/folders/fm/8hmpysk95l93k4_5m90_j5b80000gn/T/pip-install-_03klv47/pyaudio/setup.py'\"'\"'; __file__='\"'\"'/private/var/folders/fm/8hmpysk95l93k4_5m90_j5b80000gn/T/pip-install-_03klv47/pyaudio/setup.py'\"'\"';f=getattr(tokenize, '\"'\"'open'\"'\"', open)(__file__);code=f.read().replace('\"'\"'\\r\\n'\"'\"', '\"'\"'\\n'\"'\"');f.close();exec(compile(code, __file__, '\"'\"'exec'\"'\"'))' bdist_wheel -d /private/var/folders/fm/8hmpysk95l93k4_5m90_j5b80000gn/T/pip-wheel-iatjsb67 --python-tag cp37\n",
      "       cwd: /private/var/folders/fm/8hmpysk95l93k4_5m90_j5b80000gn/T/pip-install-_03klv47/pyaudio/\n",
      "  Complete output (16 lines):\n",
      "  running bdist_wheel\n",
      "  running build\n",
      "  running build_py\n",
      "  creating build\n",
      "  creating build/lib.macosx-10.9-x86_64-3.7\n",
      "  copying src/pyaudio.py -> build/lib.macosx-10.9-x86_64-3.7\n",
      "  running build_ext\n",
      "  building '_portaudio' extension\n",
      "  creating build/temp.macosx-10.9-x86_64-3.7\n",
      "  creating build/temp.macosx-10.9-x86_64-3.7/src\n",
      "  gcc -Wno-unused-result -Wsign-compare -Wunreachable-code -DNDEBUG -g -fwrapv -O3 -Wall -Wstrict-prototypes -I/Users/vpathalam/opt/anaconda3/include -arch x86_64 -I/Users/vpathalam/opt/anaconda3/include -arch x86_64 -DMACOSX=1 -I/Users/vpathalam/opt/anaconda3/include/python3.7m -c src/_portaudiomodule.c -o build/temp.macosx-10.9-x86_64-3.7/src/_portaudiomodule.o\n",
      "  src/_portaudiomodule.c:29:10: fatal error: 'portaudio.h' file not found\n",
      "  #include \"portaudio.h\"\n",
      "           ^~~~~~~~~~~~~\n",
      "  1 error generated.\n",
      "  error: command 'gcc' failed with exit status 1\n",
      "  ----------------------------------------\u001b[0m\n",
      "\u001b[31m  ERROR: Failed building wheel for pyaudio\u001b[0m\n",
      "\u001b[?25h  Running setup.py clean for pyaudio\n",
      "  Building wheel for audioread (setup.py) ... \u001b[?25ldone\n",
      "\u001b[?25h  Created wheel for audioread: filename=audioread-2.1.9-cp37-none-any.whl size=23143 sha256=627e3a4e0d3308136cfed30bef06a5248aaef583c8ed1511d2afd8be448d3b5e\n",
      "  Stored in directory: /Users/vpathalam/Library/Caches/pip/wheels/6d/55/fc/0d9cb2a5a52cc24d86cfcd5db4d40f448a43b9a6046c019fc1\n",
      "  Building wheel for resampy (setup.py) ... \u001b[?25ldone\n",
      "\u001b[?25h  Created wheel for resampy: filename=resampy-0.2.2-cp37-none-any.whl size=320720 sha256=75f6a8fe229870090281034df15e914c32afe5f0389f86cb0b0f29baf096b3bb\n",
      "  Stored in directory: /Users/vpathalam/Library/Caches/pip/wheels/fa/c1/56/e0e12c6f7f3d2cdea9712b35136a2d40a7817c6210ec096485\n",
      "Successfully built librosa sklearn audioread resampy\n",
      "Failed to build pyaudio\n",
      "Installing collected packages: audioread, resampy, librosa, soundfile, sklearn, pyaudio\n",
      "  Running setup.py install for pyaudio ... \u001b[?25lerror\n",
      "\u001b[31m    ERROR: Command errored out with exit status 1:\n",
      "     command: /Users/vpathalam/opt/anaconda3/bin/python -u -c 'import sys, setuptools, tokenize; sys.argv[0] = '\"'\"'/private/var/folders/fm/8hmpysk95l93k4_5m90_j5b80000gn/T/pip-install-_03klv47/pyaudio/setup.py'\"'\"'; __file__='\"'\"'/private/var/folders/fm/8hmpysk95l93k4_5m90_j5b80000gn/T/pip-install-_03klv47/pyaudio/setup.py'\"'\"';f=getattr(tokenize, '\"'\"'open'\"'\"', open)(__file__);code=f.read().replace('\"'\"'\\r\\n'\"'\"', '\"'\"'\\n'\"'\"');f.close();exec(compile(code, __file__, '\"'\"'exec'\"'\"'))' install --record /private/var/folders/fm/8hmpysk95l93k4_5m90_j5b80000gn/T/pip-record-o41dw6pk/install-record.txt --single-version-externally-managed --compile\n",
      "         cwd: /private/var/folders/fm/8hmpysk95l93k4_5m90_j5b80000gn/T/pip-install-_03klv47/pyaudio/\n",
      "    Complete output (16 lines):\n",
      "    running install\n",
      "    running build\n",
      "    running build_py\n",
      "    creating build\n",
      "    creating build/lib.macosx-10.9-x86_64-3.7\n",
      "    copying src/pyaudio.py -> build/lib.macosx-10.9-x86_64-3.7\n",
      "    running build_ext\n",
      "    building '_portaudio' extension\n",
      "    creating build/temp.macosx-10.9-x86_64-3.7\n",
      "    creating build/temp.macosx-10.9-x86_64-3.7/src\n",
      "    gcc -Wno-unused-result -Wsign-compare -Wunreachable-code -DNDEBUG -g -fwrapv -O3 -Wall -Wstrict-prototypes -I/Users/vpathalam/opt/anaconda3/include -arch x86_64 -I/Users/vpathalam/opt/anaconda3/include -arch x86_64 -DMACOSX=1 -I/Users/vpathalam/opt/anaconda3/include/python3.7m -c src/_portaudiomodule.c -o build/temp.macosx-10.9-x86_64-3.7/src/_portaudiomodule.o\n",
      "    src/_portaudiomodule.c:29:10: fatal error: 'portaudio.h' file not found\n",
      "    #include \"portaudio.h\"\n",
      "             ^~~~~~~~~~~~~\n",
      "    1 error generated.\n",
      "    error: command 'gcc' failed with exit status 1\n",
      "    ----------------------------------------\u001b[0m\n"
     ]
    },
    {
     "name": "stdout",
     "output_type": "stream",
     "text": [
      "\u001b[31mERROR: Command errored out with exit status 1: /Users/vpathalam/opt/anaconda3/bin/python -u -c 'import sys, setuptools, tokenize; sys.argv[0] = '\"'\"'/private/var/folders/fm/8hmpysk95l93k4_5m90_j5b80000gn/T/pip-install-_03klv47/pyaudio/setup.py'\"'\"'; __file__='\"'\"'/private/var/folders/fm/8hmpysk95l93k4_5m90_j5b80000gn/T/pip-install-_03klv47/pyaudio/setup.py'\"'\"';f=getattr(tokenize, '\"'\"'open'\"'\"', open)(__file__);code=f.read().replace('\"'\"'\\r\\n'\"'\"', '\"'\"'\\n'\"'\"');f.close();exec(compile(code, __file__, '\"'\"'exec'\"'\"'))' install --record /private/var/folders/fm/8hmpysk95l93k4_5m90_j5b80000gn/T/pip-record-o41dw6pk/install-record.txt --single-version-externally-managed --compile Check the logs for full command output.\u001b[0m\n",
      "\u001b[?25hNote: you may need to restart the kernel to use updated packages.\n"
     ]
    }
   ],
   "source": []
  },
  {
   "cell_type": "code",
   "execution_count": null,
   "metadata": {},
   "outputs": [],
   "source": []
  }
 ],
 "metadata": {
  "kernelspec": {
   "display_name": "Python 3",
   "language": "python",
   "name": "python3"
  },
  "language_info": {
   "codemirror_mode": {
    "name": "ipython",
    "version": 3
   },
   "file_extension": ".py",
   "mimetype": "text/x-python",
   "name": "python",
   "nbconvert_exporter": "python",
   "pygments_lexer": "ipython3",
   "version": "3.7.4"
  }
 },
 "nbformat": 4,
 "nbformat_minor": 2
}
